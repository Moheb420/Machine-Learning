{
 "cells": [
  {
   "cell_type": "markdown",
   "metadata": {},
   "source": [
    "# SWMAL Exercise\n",
    "\n",
    "\n",
    "## Supergruppe diskussion\n",
    "\n",
    "\n",
    "## § 2 \"End-to-End Machine Learning Project\" [HOML]\n",
    "\n",
    "Genlæs kapitel  § 2 og forbered mundtlig præsentation.\n",
    "\n",
    "## Forberedelse inden lektionen\n",
    "\n",
    "Een eller flere af gruppe medlemmer forbereder et mundtligt resume af § 2:\n",
    "\n",
    "* i skal kunne give et kort mundligt resume af hele § 2 til en anden gruppe (på nær, som nævnt, Create the Workspace og Download the Data),\n",
    "\n",
    "* resume holdes til koncept-plan, dvs. prøv at genfortælle, hvad de overordnede linier er i kapitlerne i [HOML].\n",
    "\n",
    "Lav et kort skriftlig resume af de enkelte underafsnit, ca. 5 til 20 liners tekst, se \"TODO\"-template herunder (MUST, til O2 aflevering).\n",
    "\n",
    "Kapitler (incl. underkapitler):\n",
    "\n",
    "* _Look at the Big Picture,_\n",
    "* _Get the Data,_\n",
    "* _Explore and Visualize the Data to Gain Insights,_ \n",
    "* _Prepare the Data for Machine Learning Algorithms,_\n",
    "* _Select and Train a Model,_\n",
    "* _Fine-Tune Your Model,_\n",
    "* _Launch, Monitor, and Maintain Your System,_\n",
    "* _Try It Out!._\n",
    "\n",
    "## På klassen\n",
    "\n",
    "Supergruppe [SG] resume af § 2 End-to-End, ca. 30 til 45 min.\n",
    "\n",
    "* en supergruppe [SG], sammensættes af to grupper [G], on-the-fly på klassen,\n",
    "\n",
    "* hver gruppe [G] forbereder og giver en anden gruppe [G] et mundtligt resume af § 2 til en anden gruppe,\n",
    "\n",
    "* tid: ca. 30 mim. sammenlagt, den ene grupper genfortæller første halvdel af § 2 i ca. 15 min., hvorefter den anden gruppe genfortæller resten i ca. 15 min."
   ]
  },
  {
   "cell_type": "markdown",
   "metadata": {},
   "source": [
    "#### Resume: Look at the Big Picture\n",
    "\n",
    "Teksten forklarer funktionen ved at opbygge en maskinlæringsmodel til at forudsige boligpriser i Californien ved hjælp af den givne datasæt. Datasættet inkluderer befolkning, median boligpriser for forskellige distrikter og medianindkomst. Målet med modellen er at forudsige den median boligpris for hvert distrikt baseret på andre metrikker. Den forklarer, hvordan man rammer problemet, finder den efterfølgende brug af modellens forudsigelse og forretningsmålet. Konceptet med rørledninger er blevet beskrevet, og det viser, hvor vigtigt det er med hensyn til maskinindlæring for dataforarbejdning og transformation. Rørledningernes funktion var at behandle data, sende resultaterne til den næste komponent, og komponenterne asynkront. Forskellige ydelsesmål er blevet introduceret, såsom root mean square error (RMSE) og mean absolute error (MAE). Disse ydelsesmål skal bruges til at evaluere modelens præstation. Før man vælger det korrekte ydelsesmål, er det vigtigt at overveje sammenhængen og tilstedeværelsen af outlier-distrikter i dataene.\n",
    "\n",
    "#### Resume: Get the Data\n",
    "\n",
    "Teksten fortæller læserne, hvordan de skal arbejde med kodeeksempler i en maskinlæringsbog (primært i Jupyter Notebook). Den forklarer, hvordan man åbner og får adgang til notesbogen for hvert kapitel. Læseren kan skrive kode i kodecellen, køre eller eksekvere python-kode og se output (resultat) inden for notesbogen. Derefter forklarer teksten, hvordan man gemmer data i Google Drev, hvordan man downloader notesbøger til lokal brug, og data, der leveres af notesbogen. Hele idéen er at hjælpe læseren med at bruge Jupyter Notebook effektivt ved at tilbyde tips. Til sidst forklarer teksten forskellen mellem koden i bogen og koden i notesbogen og fortæller, hvordan man henter og indlæser data, der bruges i eksemplerne. \n",
    "\n",
    "#### Resume: Explore and Visualize the Data to Gain Insights,\n",
    "\n",
    "Teksten fokuserer på visualisering og udforskning af datasættet. Den viser, hvordan man arbejder med træningssættet og eventuelt opretter et udforskningsæt for lettere manipulation. Teksten forklarer, hvor vigtig en scatterplot er, når man visualiserer geografiske data. Det hjælper med, hvordan datasættet tilføjer information om længde- og breddegrader, og ved at tilføje en scatterplot kan man identificere områder med høj tæthed, f.eks. San Diego, Los Angeles, Bay Area og Central Valley. Teksten visualiserer boligpriser ved hjælp af cirklers radius til at repræsentere farver, der angiver priser og distriktets befolkning. For at visualisere bruger teksten en scatter matrix og indsnævrer til lovende attributter som medianindkomst. Hovedfokus i teksten var den stærke korrelation mellem medianhusværdi og medianindkomst.\n",
    "\n",
    "#### Resume: Prepare the Data for Machine Learning Algorithms\n",
    "\n",
    "Dette resume fremhæver vigtigheden af dataforberedelse til maskinlæringsalgoritmer ved hjælp af funktioner. Det inkluderer oprettelse af genbrugbare transformationer og håndtering af manglende data ved at fjerne dem. Teksten introducerer begreberne kategoriske attributter og viser, hvordan de kan konverteres til numeriske værdier med 'OrdinalEncoder' og one-hot encoding med 'OneHotEncoder'. Skalering af attributter diskuteres også med anvendelse af min-max skalering og standardisering for at undgå skala-afhængighedsproblemer. Endelig præsenteres muligheden for at oprette brugerdefinerede transformatorer enten ved hjælp af 'FunctionTransformer' eller ved at oprette brugerdefinerede klasser med 'fit()' og 'transform()' metoder til at udføre tilpassede transformationer og kombinere attributter efter behov.\n",
    "\n",
    "#### Resume: Select and Train a Model\n",
    "\n",
    "I dette afsnit vælger forfatteren hvilken model der skal trænes på og bruges til at predict en huspris. Der startes ud med modellen 'LinearRegression', men denne underfitter træningsdataen, hvilket enten kan skyldes at features ikke indeholder nok information til at lave en god prediction, eller en bedre model skal afprøves.\n",
    "Herefter afprøves 'DecisionTreeRegressor', som til en start giver en rmse (performance meassure) på 0, da dataen skal splittes i træning og test. Dette kaldes cross validation og kan fx gøres ved hjælp af train_test_split() eller cross_val_score. Med cross_val_score ses det at decisionTree regressoren er lidt bedre end lineær regressoren til opgaven, dog overfitter den dataen, hvilket vi ved eftersom den gav en rmse på 0 på træningsdataen.\n",
    "Til sidst trænes der på RandomForest regressor som virker ved træne mange decision trees og give et gennemsnit af deres predictions. Denne model virker bedre, men man skal stadig være opmærksom på overfitting. Dette kan afhjælpes ved at simplificere modellen, regularization eller at skaffe mere træningsdata.\n",
    "\n",
    "#### Resume: Fine-Tune Your Model\n",
    "\n",
    "Fine tuning af modeller kan gøres manuelt ved at skrue på hyperparameterne. Dette er dog tidskrævende da der kan være rigtig mange kombinationer af hyperparametre i en model. Der findes dog en klasse, 'GridSearchCV' som kan søge efter værdier til hyperparametrer. Grid search bruges også i en pipeline, da der så kan findes de optimale kombinationer af hyperparametre. Dette er især nyttigt, når der er mange parametre at justere. Grid search tager sig af at udføre alle kombinationer og returnere de bedste resultater. Dog skal man være opmærksom på at hvis der returneres den højst mulige værdi af en hyperparameter, skal man måske prøve med nogle endnu højere værdier for at se om GridSearch kan finde frem til en mere optimal værdi.\n",
    "Derudover kan man også bruge 'RandomizedSearchCV', som er at foretrække, hvis der er mange hyperparametre. Randomized Search er en metode til at finde de bedste hyperparametre i store søgeområder. Det bruger tilfældige værdier for hyperparametrene og udforsker dermed en bredere række muligheder end traditionel Grid Search. Ensemblemetoder, som kombinerer flere modeller, kan ofte give bedre resultater end enkeltmodeller, især når de laver forskellige fejltyper. Analysen af de bedste modeller kan hjælpe med at forstå, hvilke attributter der er mest afgørende. Det anbefales også at evaluere modellen på forskellige kategorier af data.\n",
    "Endelig bør den endelige model testes på et testdatasæt, og resultaterne bør præsenteres klart med dokumentation. Justering af modellen baseret på testresultater bør dog undgås, da det sjældent generaliserer til nye data.\n",
    "\n",
    "#### Resume: Launch, Monitor, and Maintain Your System\n",
    "\n",
    "TODO resume..\n",
    "\n",
    "#### Resume: Try It Out!.\n",
    "dfdfdfdfdf\n",
    "TODO resume.."
   ]
  },
  {
   "cell_type": "markdown",
   "metadata": {},
   "source": [
    "REVISIONS||\n",
    "---------||\n",
    "2019-01-28| CEF, initial.\n",
    "2020-02-05| CEF, F20 ITMAL update.\n",
    "2021-08-17| CEF, E21 ITMAL update.\n",
    "2021-09-17| CEF, corrected some spell errors.\n",
    "2022-01-28| CEF, update to F22 SWMAL.\n",
    "2022-09-09| CEF, corrected 'MUST for O1' to 'MUST for O2' in text.\n",
    "2023-02-13| CEF, updated to HOML 3rd, removed exclude subsections in 'Get the Data' in this excercise, since the parts with python environments has been removed in HOML."
   ]
  }
 ],
 "metadata": {
  "kernelspec": {
   "display_name": "Python 3 (ipykernel)",
   "language": "python",
   "name": "python3"
  },
  "language_info": {
   "codemirror_mode": {
    "name": "ipython",
    "version": 3
   },
   "file_extension": ".py",
   "mimetype": "text/x-python",
   "name": "python",
   "nbconvert_exporter": "python",
   "pygments_lexer": "ipython3",
   "version": "3.11.4"
  },
  "varInspector": {
   "cols": {
    "lenName": 16,
    "lenType": 16,
    "lenVar": 40
   },
   "kernels_config": {
    "python": {
     "delete_cmd_postfix": "",
     "delete_cmd_prefix": "del ",
     "library": "var_list.py",
     "varRefreshCmd": "print(var_dic_list())"
    },
    "r": {
     "delete_cmd_postfix": ") ",
     "delete_cmd_prefix": "rm(",
     "library": "var_list.r",
     "varRefreshCmd": "cat(var_dic_list()) "
    }
   },
   "types_to_exclude": [
    "module",
    "function",
    "builtin_function_or_method",
    "instance",
    "_Feature"
   ],
   "window_display": false
  }
 },
 "nbformat": 4,
 "nbformat_minor": 2
}
