{
 "cells": [
  {
   "cell_type": "markdown",
   "metadata": {},
   "source": [
    "# SWMAL Exercise\n",
    "\n",
    "## Implementing a dummy binary-classifier with fit-predict interface\n",
    "\n",
    "#### Qa  Load and display the MNIST data"
   ]
  },
  {
   "cell_type": "code",
   "execution_count": 4,
   "metadata": {},
   "outputs": [
    {
     "data": {
      "image/png": "[encoded data removed]",
      "text/plain": [
       "<Figure size 640x480 with 1 Axes>"
      ]
     },
     "metadata": {},
     "output_type": "display_data"
    }
   ],
   "source": [
    "from sklearn.datasets import fetch_openml\n",
    "import matplotlib.pyplot as plt\n",
    "\n",
    "def MNIST_HentDatasæt():\n",
    "    # For at undertrykke parseradvarslen er parseren blevet brugt\n",
    "    X, y = fetch_openml('mnist_784', return_X_y=True, parser='liac-arff', cache=False, as_frame=False)\n",
    "    return X, y\n",
    "\n",
    "# Formerer et billededata punkt (data) og ændrer formen fra 1D-array til 2D-array\n",
    "def MNIST_PlotCiffer(data):\n",
    "    billede = data.reshape(28, 28)\n",
    "    # Farverne er sort og hvid\n",
    "    plt.imshow(billede, cmap=plt.cm.binary, interpolation=\"nearest\")\n",
    "    plt.axis(\"off\")\n",
    "\n",
    "X, y = MNIST_HentDatasæt()\n",
    "\n",
    "ciffer_at_plotte = X[1]  # For eksempel: X[0] for at vælge det anden ciffer i datasættet\n",
    "\n",
    "# Eksempel på brug af funktionerne til at indlæse og plotte en enkelt ciffer\n",
    "MNIST_PlotCiffer(ciffer_at_plotte)\n",
    "plt.show()\n",
    "# Denne kode indlæser et billede af cifferet \"0\" fra datasættet og bruger derefter matplotlib til at plotte cifferet på \n",
    "# skærmen med sort og hvid farve.\n"
   ]
  },
  {
   "cell_type": "markdown",
   "metadata": {},
   "source": [
    "#### Qb  Add a Stochastic Gradient Decent [SGD] Classifier"
   ]
  },
  {
   "cell_type": "code",
   "execution_count": 5,
   "metadata": {},
   "outputs": [
    {
     "name": "stdout",
     "output_type": "stream",
     "text": [
      "X.shape=(70000, 784)\n"
     ]
    },
    {
     "data": {
      "image/png": "[encoded data removed]",
      "text/plain": [
       "<Figure size 1200x600 with 10 Axes>"
      ]
     },
     "metadata": {},
     "output_type": "display_data"
    }
   ],
   "source": [
    "from sklearn.linear_model import SGDClassifier\n",
    "import matplotlib.pyplot as plt\n",
    "from sklearn.model_selection import train_test_split\n",
    "\n",
    "X, y = MNIST_HentDatasæt()\n",
    "\n",
    "# train_test_split er blevet brugt til at opdele datasættet i trænings- og testdata\n",
    "X_train, X_test, y_train, y_test = train_test_split(X, y, test_size=0.2, random_state=42)\n",
    "\n",
    "if X.ndim == 3:\n",
    "    print(\"Omformer X..\")\n",
    "    assert y.ndim == 1\n",
    "    X = X.reshape((X.shape[0], X.shape[1] * X.shape[2]))\n",
    "assert X.ndim == 2\n",
    "print(f\"X.shape={X.shape}\")  # X.shape= (70000, 784)\n",
    "\n",
    "y_train_5 = (y_train == '5')\n",
    "y_test_5 = (y_test == '5')\n",
    "\n",
    "sgd_classifier = SGDClassifier(random_state=42)\n",
    "sgd_classifier.fit(X_train, y_train_5)\n",
    "\n",
    "# Laver forudsigelser på testdataene\n",
    "y_pred = sgd_classifier.predict(X_test)\n",
    "\n",
    "# Evaluer modelpræstation. Denne kode identificerer, hvilke prøver der blev korrekt klassificeret, og\n",
    "# hvilke der blev klassificeret forkert baseret på de forudsigelser, som modellen lavede\n",
    "korrekt_klassificerede_indekser = (y_pred == y_test_5)\n",
    "korrekt_klassificerede_prøver = X_test[korrekt_klassificerede_indekser]\n",
    "forkert_klassificerede_indekser = (y_pred != y_test_5)\n",
    "forkert_klassificerede_prøver = X_test[forkert_klassificerede_indekser]\n",
    "\n",
    "# Plott korrekt klassificerede prøver\n",
    "plt.figure(figsize=(12, 6))\n",
    "\n",
    "# Plott korrekt klassificerede prøver\n",
    "plt.subplot(1, 2, 1)\n",
    "for i in range(8):\n",
    "    ax = plt.subplot(2, 4, i + 1)\n",
    "    ax.imshow(korrekt_klassificerede_prøver[i].reshape(28, 28), cmap=plt.cm.binary)\n",
    "    ax.set_title(\"Korrekt Klassificeret\")\n",
    "    ax.axis(\"off\")\n",
    "\n",
    "# Plott forkert klassificerede prøver\n",
    "plt.subplot(1, 2, 2)\n",
    "for i in range(8):\n",
    "    ax = plt.subplot(2, 4, i + 1)\n",
    "    ax.imshow(forkert_klassificerede_prøver[i].reshape(28, 28), cmap=plt.cm.binary)\n",
    "    ax.set_title(\"Forkert Klassificeret\")\n",
    "    ax.axis(\"off\")\n",
    "    \n",
    "plt.tight_layout()  # denne linje forhindrer overlapning af akser\n",
    "plt.show()\n",
    "\n",
    "# Advarselsteksten indikerer, at den nuværende måde, Matplotlib håndterer overlappende akser, er forældet. ax.remove() og \n",
    "# plt.tight_layout() er blevet brugt for at fjerne advarslen, men det ikke lykkes\n",
    "# løst af robot (AI)"
   ]
  },
  {
   "cell_type": "markdown",
   "metadata": {},
   "source": [
    "#### Qc Implement a dummy binary classifier\n",
    "\n",
    "I denne opgave beskrives processen med at implementere en simpel binær klassifikator ved hjælp af en Python-klasse.\n",
    "\n",
    "Scikit-learn-klassifikatorer arver normalt fra BaseEstimator (og eventuelt også ClassifierMixin), og de skal have funktionerne, fit og predict. Selvom det er almindeligt at arve fra BaseEstimator, kan man også implementere en klasse, der indeholder fit- og predict funktioner, uden nødvendigvis at arve fra den.\n",
    "\n",
    "I nedenstående kode er en simpel DummyClassifier-klasse implementeret. Dens fit-metode gør intet, og predict-metoden forudsiger altid klassen 0. En instans af DummyClassifier oprettes, og fit kaldes med træningsdata, hvor y_train_5 bruges som input. Derefter forudsiger predict-metoden klassifikationerne for testdataene, og nøjagtigheden beregnes ved hjælp af accuracy_score-funktionen fra scikit-learn. Resultatet af accuracy scoren på 0.909 giver mening eftersom man forventer et ikke 5-tal 90% af gangene. DummyClassifier i bogen p.107 får en lignende score."
   ]
  },
  {
   "cell_type": "code",
   "execution_count": 19,
   "metadata": {},
   "outputs": [
    {
     "name": "stdout",
     "output_type": "stream",
     "text": [
      "Dummy Classifier Accuracy: 0.9090714285714285\n"
     ]
    }
   ],
   "source": [
    "from sklearn.metrics import accuracy_score\n",
    "import numpy as np\n",
    "\n",
    "class DummyClassifier:\n",
    "    def fit(self, X, y):\n",
    "        # Ingenting behøver at blive trænet, da forudsigelsen altid er den samme\n",
    "        pass\n",
    "\n",
    "    def predict(self, X):\n",
    "        # Forudsæt altid klasse 0\n",
    "        return np.zeros((X.shape[0],), dtype=int)\n",
    "\n",
    "\n",
    "\n",
    "# Opret en instans af DummyClassifier\n",
    "dummy_classifier = DummyClassifier()\n",
    "\n",
    "# Træn dummyklassificatoren på træningssættet\n",
    "dummy_classifier.fit(X_train, y_train_5)\n",
    "\n",
    "# Forudsig klassifikationerne for testdataene\n",
    "y_pred_dummy = dummy_classifier.predict(X_test)\n",
    "\n",
    "# Beregn nøjagtigheden\n",
    "accuracy_dummy = accuracy_score(y_test_5, y_pred_dummy)\n",
    "\n",
    "print(\"Dummy Classifier Accuracy:\", accuracy_dummy)\n",
    "\n",
    "# Opgave løst med chatGPT\n"
   ]
  },
  {
   "cell_type": "markdown",
   "metadata": {},
   "source": [
    "### Qd Conclusion\n",
    "\n",
    "I denne opgave har vi udforsket MNIST-datasettet, som indeholder billeder af håndskrevne cifre. Vi begyndte med at indlæse og forberede dataene. Dette omfattede opdeling af dataene i trænings- og testdatasæt, hvilket er afgørende for at evaluere vores model på uafhængige data.\n",
    "\n",
    "Derefter kastede vi os ud i træningsprocessen ved at bruge SGD Classifier, til at skelne cifret \"5\" fra de øvrige cifre.\n",
    "\n",
    "Til sidst skabte vi en Dummy Classifier, der altid gav den samme forudsigelse, nemlig \"0\". Denne havde en accuracy på over 0.9, hvilket lyder højt, men eftersom kun 10% af tallene er 5-taller giver dette mening. Dummyclassifieren gav os derfor et baseline-referencepunkt til vurdering af vores faktiske model."
   ]
  }
 ],
 "metadata": {
  "kernelspec": {
   "display_name": "Python 3 (ipykernel)",
   "language": "python",
   "name": "python3"
  },
  "language_info": {
   "codemirror_mode": {
    "name": "ipython",
    "version": 3
   },
   "file_extension": ".py",
   "mimetype": "text/x-python",
   "name": "python",
   "nbconvert_exporter": "python",
   "pygments_lexer": "ipython3",
   "version": "3.11.4"
  },
  "varInspector": {
   "cols": {
    "lenName": 16,
    "lenType": 16,
    "lenVar": 40
   },
   "kernels_config": {
    "python": {
     "delete_cmd_postfix": "",
     "delete_cmd_prefix": "del ",
     "library": "var_list.py",
     "varRefreshCmd": "print(var_dic_list())"
    },
    "r": {
     "delete_cmd_postfix": ") ",
     "delete_cmd_prefix": "rm(",
     "library": "var_list.r",
     "varRefreshCmd": "cat(var_dic_list()) "
    }
   },
   "position": {
    "height": "144.517px",
    "left": "1230px",
    "right": "20px",
    "top": "119px",
    "width": "350px"
   },
   "types_to_exclude": [
    "module",
    "function",
    "builtin_function_or_method",
    "instance",
    "_Feature"
   ],
   "window_display": true
  }
 },
 "nbformat": 4,
 "nbformat_minor": 2
}
