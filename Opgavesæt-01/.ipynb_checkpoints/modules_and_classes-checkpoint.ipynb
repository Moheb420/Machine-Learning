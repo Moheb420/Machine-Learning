{
 "cells": [
  {
   "cell_type": "markdown",
   "metadata": {},
   "source": [
    "# SWMAL Exercise\n",
    "\n",
    "## Python Basics\n",
    "\n",
    "#### Qa Indlæs og test modulet libitmal"
   ]
  },
  {
   "cell_type": "code",
   "execution_count": 14,
   "metadata": {},
   "outputs": [
    {
     "name": "stdout",
     "output_type": "stream",
     "text": [
      "TestPrintMatrix...(no regression testing)\n",
      "X=[[   1.    2.]\n",
      "   [   3. -100.]\n",
      "   [   1.   -1.]]\n",
      "X=[[ 1.  2.]\n",
      "   ...\n",
      "   [ 1. -1.]]\n",
      "X=[[   1.\n",
      "       2.    ]\n",
      "   [   3.0001\n",
      "    -100.    ]\n",
      "   [   1.\n",
      "      -1.    ]]\n",
      "X=[[   1.    2.]\n",
      "   [   3. -100.]\n",
      "   [   1.   -1.]]\n",
      "OK\n",
      "TEST: OK\n",
      "ALL OK\n"
     ]
    }
   ],
   "source": [
    "import sys, os \n",
    "# Denne linje kode tilføjer den angivne mappesti til listen over stier\n",
    "sys.path.append(os.path.expanduser('C:/Users/Moheb/OneDrive/Desktop/Semester 6/MAL/GITMAL'))\n",
    "\n",
    "# Denne linje kode import utils fra libitmal mappe\n",
    "from libitmal import utils as itmalutils\n",
    "itmalutils.TestAll()"
   ]
  },
  {
   "cell_type": "markdown",
   "metadata": {},
   "source": [
    " Koden ovenpå tilføjer en angiven mappesti til systemets stilliste, hvilket giver adgang til brugerdefinerede moduler.\n",
    " Derefter importeres et hjælpeprogram med navnet \"utils\" fra mappen \"libitmal\" og kører tests på det ved hjælp af\n",
    " \"itmalutils.TestAll().\" Output viser testresultaterne, herunder forskellige matrixmanipulationer og deres\n",
    " forventede resultater. \"OK\" i slutningen angiver, at alle tests er bestået med succes og bekræfter den korrekte\n",
    " funktionalitet af hjælpeprogrammet."
   ]
  },
  {
   "cell_type": "markdown",
   "metadata": {},
   "source": [
    "#### Qb Opret og test af module"
   ]
  },
  {
   "cell_type": "code",
   "execution_count": 3,
   "metadata": {
    "scrolled": true
   },
   "outputs": [
    {
     "name": "stdout",
     "output_type": "stream",
     "text": [
      "8\n",
      "120\n",
      "15\n"
     ]
    }
   ],
   "source": [
    "import sys, os \n",
    "sys.path.append(os.path.expanduser('C:/Users/Bruger/Desktop/Semester 6/Machine Learning/GITMAL/libitmal'))\n",
    "from MyModule import Module as module\n",
    "module.TestAll()"
   ]
  },
  {
   "cell_type": "markdown",
   "metadata": {},
   "source": [
    " Koden oven på forklare at inde i Libitmal er der oprettet en modul ved navn MyModule, og 'Module.py' er blevet \n",
    " oprettet indeni den. Module.py har nogle funktioner:\n",
    " add_two_numbers(a, b): Denne funktion tager to parametre og lægger dem sammen.\n",
    " find_factorial(n): Denne funktion tager et tal som input og returnerer dets faktorial. sum_of_list_elements(list): Denne     funktion beregner summen af elementerne i listen.\n",
    " TestAll(): Denne funktion kalder alle de ovenstående funktioner og udskriver deres resultater"
   ]
  },
  {
   "cell_type": "markdown",
   "metadata": {},
   "source": [
    "#### Qc Module recompile"
   ]
  },
  {
   "cell_type": "markdown",
   "metadata": {},
   "source": [
    " Du kan bruge modulet 'importlib' til at genindlæse modulet eksplicit. 'Importlib' modulet vil tvinge jupyter notebook\n",
    " til at genindlæse modulændringerne. f.eks.\n",
    " import importlib -- Denne linje vil importere 'importlib' modulet\n",
    " import my_module -- Importer modulet med nye ændringer\n",
    " importlib.reload(my_module) -- Denne linje vil tvinge jupyter til at genindlæse modulet (my_module)\n"
   ]
  },
  {
   "cell_type": "markdown",
   "metadata": {},
   "source": [
    "#### Qe Klasse udvidelse med nogle funktioner og membervariabler"
   ]
  },
  {
   "cell_type": "code",
   "execution_count": 11,
   "metadata": {},
   "outputs": [],
   "source": [
    "class MyClass:\n",
    "   \n",
    "    def myfun(self):\n",
    "        self.myvar = \"blah\" B# En pr. klasse-instansvariabel\n",
    "        print(f\"This is a message inside the class, myvar={self.myvar}.\")\n",
    "\n",
    "myobjectx = MyClass()\n",
    "\n",
    "\n",
    "# Efter at have kørt koden uden 'self'-parameter"
   ]
  },
  {
   "attachments": {
    "type_error.png": {
     "image/png": "[encoded data removed]"
    }
   },
   "cell_type": "markdown",
   "metadata": {},
   "source": [
    "![type_error.png](attachment:type_error.png)"
   ]
  },
  {
   "cell_type": "markdown",
   "metadata": {},
   "source": [
    " 'self' er et konventionelt anvendt navn til den første parameter i instansmetoder i en klasse.\n",
    " Det henviser til instansen selv, hvilket giver dig mulighed for at få adgang til og manipulere dens\n",
    "attributter og kalde dens metoder.\n",
    "--------------------------------------------------------------------------------------------------------------\n",
    "\n",
    " Billedet ovenpå viser en 'TypeError', der er blevet rejst. Det betyder, at myfun() ikke har en self-parameter.\n",
    " Python forventer, at der overføres et argument (instansen selv) til metoden."
   ]
  },
  {
   "cell_type": "markdown",
   "metadata": {},
   "source": [
    "#### Qf Udvidelser af Konstruktor"
   ]
  },
  {
   "cell_type": "code",
   "execution_count": 16,
   "metadata": {
    "scrolled": true
   },
   "outputs": [
    {
     "name": "stdout",
     "output_type": "stream",
     "text": [
      "Hello\n"
     ]
    }
   ],
   "source": [
    "class MyClass:\n",
    "    def __init__(self,parameter1, parameter2):\n",
    "        self.parameter1 = parameter1\n",
    "        self.parameter2 = parameter2\n",
    "    \n",
    "object = MyClass(\"Hello\", 12)\n",
    "print(object.parameter1)"
   ]
  },
  {
   "cell_type": "markdown",
   "metadata": {},
   "source": [
    " I Python kan du definere en konstruktør ved at tilføje en metode kaldet init. init er en speciel metode, der kaldes\n",
    " automatisk når en instans af klassen oprettes. f.eks. __init__ i klassen \"MyClass,\" \n",
    " som initialiserer objekter med to parametre, parameter1 og parameter2, og gemmer dem som objekters attributter.\n",
    " Når et objekt oprettes med MyClass(\"Hello\", 12), bliver parameter1 til \"Hello\" og parameter2 til 12.\n",
    "-------------------------------------------------------------------------------------------------------\n",
    " Python har ikke en traditionel destruktør som i C++. Python administrerer hukommelsen automatisk ligesom i C#.\n",
    " Derfor er der ingen behov for en destruktør."
   ]
  },
  {
   "cell_type": "markdown",
   "metadata": {},
   "source": [
    "#### Qg Udvidelse af klassen med to-string function"
   ]
  },
  {
   "cell_type": "code",
   "execution_count": 19,
   "metadata": {},
   "outputs": [
    {
     "name": "stdout",
     "output_type": "stream",
     "text": [
      " JobName='Engineer'\n"
     ]
    }
   ],
   "source": [
    "class MyClass:\n",
    "    def __init__(self, job):\n",
    "        self.job = job\n",
    "\n",
    "    def __str__(self):\n",
    "        return f\" JobName='{self.job}'\"\n",
    "\n",
    "# opret en instance af MyClass\n",
    "obj = MyClass(\"Engineer\")\n",
    "print(obj)\n"
   ]
  },
  {
   "cell_type": "markdown",
   "metadata": {},
   "source": [
    " Python bruger en speciel metode kaldet str. Denne metode kaldes automatisk, når man bruger print() funktionen med en\n",
    " instans af klassen (self).f eks. metoden ovenpå returnerer en tilpasset strengrepræsentation af objektet, hvor\n",
    " \"JobName='Engineer'\" er strengen, der udskrives i stedet for den standardrepræsentation"
   ]
  }
 ],
 "metadata": {
  "kernelspec": {
   "display_name": "Python 3 (ipykernel)",
   "language": "python",
   "name": "python3"
  },
  "language_info": {
   "codemirror_mode": {
    "name": "ipython",
    "version": 3
   },
   "file_extension": ".py",
   "mimetype": "text/x-python",
   "name": "python",
   "nbconvert_exporter": "python",
   "pygments_lexer": "ipython3",
   "version": "3.11.4"
  },
  "varInspector": {
   "cols": {
    "lenName": 16,
    "lenType": 16,
    "lenVar": 40
   },
   "kernels_config": {
    "python": {
     "delete_cmd_postfix": "",
     "delete_cmd_prefix": "del ",
     "library": "var_list.py",
     "varRefreshCmd": "print(var_dic_list())"
    },
    "r": {
     "delete_cmd_postfix": ") ",
     "delete_cmd_prefix": "rm(",
     "library": "var_list.r",
     "varRefreshCmd": "cat(var_dic_list()) "
    }
   },
   "position": {
    "height": "144.517px",
    "left": "666px",
    "right": "20px",
    "top": "425px",
    "width": "350px"
   },
   "types_to_exclude": [
    "module",
    "function",
    "builtin_function_or_method",
    "instance",
    "_Feature"
   ],
   "window_display": true
  }
 },
 "nbformat": 4,
 "nbformat_minor": 2
}
