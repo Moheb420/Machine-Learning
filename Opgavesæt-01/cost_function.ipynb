{
 "cells": [
  {
   "cell_type": "markdown",
   "metadata": {
    "tags": []
   },
   "source": [
    "# cost_function\n",
    "\n",
    "\n",
    "#### Qa\n",
    "\n",
    "Følgende designmatrix skal laves og printes:\n",
    "$$\n",
    "    \\ar{rl}{\n",
    "      \\bx\\pown{1} &= \\ac{c}{ 1, 2, 3}^T \\\\\n",
    "      \\bx\\pown{2} &= \\ac{c}{ 4, 2, 1}^T \\\\\n",
    "      \\bx\\pown{3} &= \\ac{c}{ 3, 8, 5}^T \\\\\n",
    "      \\bx\\pown{4} &= \\ac{c}{-9,-1, 0}^T\n",
    "    }\n",
    "$$\n",
    "I kodeblokken importeres de nødvendige biblioteker, herunder NumPy og math. Derefter defineres vektorerne, x1, x2, x3 og x4, der repræsenterer hver søjlevektor i matrixen. Disse vektorer udgør feature-værdierne.\n",
    "\n",
    "Herefter anvendes NumPy's vstack-funktion til at stable de definerede vektorer vertikalt, hvilket resulterer i oprettelsen af matricen X.\n",
    "\n",
    "Endelig bruges print-funktionen til at udskrive matricen."
   ]
  },
  {
   "cell_type": "code",
   "execution_count": 1,
   "metadata": {
    "tags": []
   },
   "outputs": [
    {
     "name": "stdout",
     "output_type": "stream",
     "text": [
      "[[ 1  2  3]\n",
      " [ 4  2  1]\n",
      " [ 3  8  5]\n",
      " [-9 -1  0]]\n"
     ]
    }
   ],
   "source": [
    "import numpy as np\n",
    "import math\n",
    "\n",
    "y = np.array([1,2,3,4]) # actual values\n",
    "\n",
    "# Define the given vectors 𝐱(𝑖)\n",
    "x1 = np.array([1, 2, 3])\n",
    "x2 = np.array([4, 2, 1])\n",
    "x3 = np.array([3, 8, 5])\n",
    "x4 = np.array([-9, -1, 0])\n",
    "\n",
    "X = np.vstack((x1, x2, x3, x4))\n",
    "\n",
    "# Print the resulting 𝐗 matrix\n",
    "print(X)\n"
   ]
  },
  {
   "cell_type": "markdown",
   "metadata": {},
   "source": [
    "#### Qb\n",
    "\n",
    "I opgaven blev arbejdet med beregning af normer eller afstande mellem vektorer. To typer blev undersøgt: $\\norm{1}$, og $\\norm{2}$.\n",
    "\n",
    "Normerne blev først matematisk defineret og derefter implementeret i Python uden brug af biblioteker som math.sqrt eller numpy.linalg.norm. Først blev en 'low-level' implementering oprettet ved hjælp af grundlæggende operationer som +, *, og ** for at beregne normerne.\n",
    "\n",
    "Implementeringerne blev testet ved sammenligning med forventede resultater for at sikre korrekt funktion, vha. 'assert' funktionen\n",
    "\n",
    "Efter bekræftelse af test implementeringer blev $\\norm{2}$ optimeret ved at bruge np.numpy's dot-operator i stedet for en eksplicit sum. Denne optimerede version blev kaldt L2Dot.\n",
    "\n"
   ]
  },
  {
   "cell_type": "code",
   "execution_count": 2,
   "metadata": {
    "tags": []
   },
   "outputs": [
    {
     "name": "stdout",
     "output_type": "stream",
     "text": [
      "tx-ty=[-2  3 -1 -2], d1-expected_d1=0.0, d2-expected_d2=0.0\n",
      "OK(part-1)\n",
      "d2dot-expected_d2= 0.0\n",
      "OK(part-2)\n"
     ]
    }
   ],
   "source": [
    "def L1(vector):\n",
    "    assert isinstance(vector, np.ndarray), \"Input must be a NumPy array\"\n",
    "    l1_norm = 0\n",
    "    for element in vector:\n",
    "        l1_norm += abs(element)\n",
    "    return l1_norm\n",
    "\n",
    "def L2(vector):\n",
    "    assert isinstance(vector, np.ndarray), \"Input must be a NumPy array\"\n",
    "    l2_norm = 0\n",
    "    for element in vector:\n",
    "        l2_norm += element ** 2\n",
    "    return l2_norm ** 0.5\n",
    "\n",
    "def L2Dot(vector):\n",
    "    assert isinstance(vector, np.ndarray), \"Input must be a NumPy array\"\n",
    "    return np.sqrt(np.dot(vector, vector))\n",
    "\n",
    "    \n",
    "\n",
    "# TEST vectors: here I test your implementation...calling your L1() and L2() functions\n",
    "tx=np.array([1, 2, 3, -1])\n",
    "ty=np.array([3,-1, 4,  1])\n",
    "\n",
    "expected_d1=8.0\n",
    "expected_d2=4.242640687119285\n",
    "\n",
    "d1=L1(tx-ty)\n",
    "d2=L2(tx-ty)\n",
    "\n",
    "print(f\"tx-ty={tx-ty}, d1-expected_d1={d1-expected_d1}, d2-expected_d2={d2-expected_d2}\")\n",
    "\n",
    "eps=1E-9 \n",
    "# NOTE: remember to import 'math' for fabs for the next two lines..\n",
    "assert math.fabs(d1-expected_d1)<eps, \"L1 dist seems to be wrong\" \n",
    "assert math.fabs(d2-expected_d2)<eps, \"L2 dist seems to be wrong\" \n",
    "\n",
    "print(\"OK(part-1)\")\n",
    "\n",
    "# comment-in once your L2Dot fun is ready...\n",
    "d2dot=L2Dot(tx-ty)\n",
    "print(\"d2dot-expected_d2=\",d2dot-expected_d2)\n",
    "assert math.fabs(d2dot-expected_d2)<eps, \"L2Ddot dist seem to be wrong\" \n",
    "print(\"OK(part-2)\")"
   ]
  },
  {
   "cell_type": "markdown",
   "metadata": {},
   "source": [
    "### Qc\n",
    "\n",
    "I opgaven blev der arbejdet med implementeringen af cost-funktionen 𝐽 og specifikt root mean squared error (RMSE).\n",
    "\n",
    "\n",
    "\n",
    "Først blev funktionen RMSE lavet. Denne funktion tager to input: forudsagte værdier (predictions) og faktiske værdier (actual_values). Internt bruges den tidligere implementerede L2-norm-funktion, L2Dot, til at beregne kvadrerede fejl. Herefter multipliceres resultatet med 1/2 for at opnå RMSE-værdien.\n",
    "\n",
    "En dummy hypotese-funktion, ℎ𝑑𝑢𝑚𝑚𝑦, blev givet for at returnerer den første kolonne af designmatricen fra opgave Qa.\n",
    "\n",
    "Endelig blev RMSE-funktionen testet ved at give den hypotesefunktionen samt y fra opgave Qa som inputs. Resultatet blev sammenlignet med forventede værdier for at bekræfte korrektheden af RMSE-beregningerne."
   ]
  },
  {
   "cell_type": "code",
   "execution_count": 3,
   "metadata": {
    "tags": []
   },
   "outputs": [
    {
     "name": "stdout",
     "output_type": "stream",
     "text": [
      "RMSE=6.576473218982953, diff=2.6645352591003757e-15\n",
      "OK\n"
     ]
    }
   ],
   "source": [
    "def RMSE(predictions, actual_values):\n",
    "    assert len(predictions) == len(actual_values), \"Input arrays must have the same size\"\n",
    "    error = predictions - actual_values\n",
    "    rmse = 1/2 * (L2Dot(error))  # Call the L2 function to calculate the squared error\n",
    "    return rmse\n",
    "\n",
    "# Dummy h function:\n",
    "def h(X):    \n",
    "    if X.ndim!=2:\n",
    "        raise ValueError(\"excpeted X to be of ndim=2, got ndim=\",X.ndim)\n",
    "    if X.shape[0]==0 or X.shape[1]==0:\n",
    "        raise ValueError(\"X got zero data along the 0/1 axis, cannot continue\")\n",
    "    return X[:,0]\n",
    "\n",
    "# Calls your RMSE() function:\n",
    "r=RMSE(h(X),y)\n",
    "\n",
    "# TEST vector:\n",
    "eps=1E-9\n",
    "expected=6.57647321898295\n",
    "print(f\"RMSE={r}, diff={r-expected}\")\n",
    "assert math.fabs(r-expected)<eps, \"your RMSE dist seems to be wrong\" \n",
    "\n",
    "print(\"OK\")"
   ]
  },
  {
   "cell_type": "markdown",
   "metadata": {},
   "source": [
    "#### Qd\n",
    "\n",
    "I denne opgave blev der udviklet en funktion til at beregne Mean Absolute Error (MAE). MAE beregnes ved at bruge L1 funktionen og sammenligne predicted values med actual values og beregne gennemsnittet af absolutte fejl for hvert datapunkt.\n",
    "\n",
    "Funktionen MAE blev implementeret som vist nedenfor. Den tager de to inputarrays, predictions og actual_values, og kontrollerer først, om de har samme størrelse. Herefter beregnes fejlene ved at trække actual_values fra predictions. MAE-værdien opnås ved at tage gennemsnittet af absolutværdierne ved at gange med 1/4, da der er 4 værdier i hver vektor."
   ]
  },
  {
   "cell_type": "code",
   "execution_count": 4,
   "metadata": {},
   "outputs": [
    {
     "name": "stdout",
     "output_type": "stream",
     "text": [
      "MAE=3.75, diff=0.0\n",
      "OK\n"
     ]
    }
   ],
   "source": [
    "# TODO: solve Qd\n",
    "def MAE(predictions, actual_values):\n",
    "    assert len(predictions) == len(actual_values), \"Input arrays must have the same size\"\n",
    "    error = predictions - actual_values\n",
    "    mae = 1/4 * L1(error)  # Call the L2 function to calculate the squared error\n",
    "    return mae\n",
    "\n",
    "# Calls your MAE function:\n",
    "r=MAE(h(X), y)\n",
    "\n",
    "# TEST vector:\n",
    "expected=3.75\n",
    "print(f\"MAE={r}, diff={r-expected}\")\n",
    "assert abs(r-expected)<eps, \"MAE dist seems to be wrong\" \n",
    "\n",
    "print(\"OK\")"
   ]
  },
  {
   "cell_type": "markdown",
   "metadata": {},
   "source": [
    "#### Qe Robust Code \n",
    "\n",
    "I funktionerne RMSE MAE er der lavet en assert som tjekker, om længden af inputarrays predictions og actual_values er ens. Hvis de ikke har samme størrelse, udløser assert en fejl med den angivne meddelelse: \"Input arrays must have the same size.\"\n",
    "\n",
    "For L1 og L2 funktionerne tjekkes der for, om inputparameteren vector er en NumPy-array. Hvis vector ikke er en NumPy-array, udløser assert en AssertionError med meddelelsen: \"Input must be a NumPy array.\""
   ]
  },
  {
   "cell_type": "markdown",
   "metadata": {},
   "source": [
    "### Qf Conclusion"
   ]
  },
  {
   "cell_type": "markdown",
   "metadata": {},
   "source": [
    "\n",
    "I disse øvelser har vi dykket ned i grundlæggende begreber inden for ML, især fokuseret på vektor- og matrixoperationer, norms, cost function fejlmetrikker og robust kode. Her er de vigtigste pointer:\n",
    "\n",
    "Vektor- og Matrixoperationer: Vi lærte, hvordan man repræsenterer datasamples som vektorer og konstruerer datamatricer. Disse operationer er afgørende for at arbejde med data inden for maskinlæring, da de fleste algoritmer er afhængige af matrixmanipulationer.\n",
    "\n",
    "Normer og Afstande: Vi udforskede L1 (Manhattan-normen) og L2 (Euklidisk norm) for vektorer. Forståelse af disse normer er afgørende for at måle afstande mellem data punkter.\n",
    "\n",
    "Fejlmetrikker: Vi implementerede to fejlmetrikker, RMSE og MAE. Disse metrikker hjælper med at vurdere performance af modellerne ved at kvantificere forskellen mellem predicted og actual values.\n",
    "\n",
    "Robusthed: Vi fik en forståelse for hvordan man skriver robust kode ved at inkludere fejltjekning og datavalidering. Dette sikrer, at vores funktioner håndterer uventede input på en hensigtsmæssig måde.\n",
    "\n",
    "Gennem disse øvelser dykkede vi dybere ned i matematikken bag maskinlæringsalgoritmer, lærte at måle fejl og afstande mellem datapunkter samt forstod vigtigheden af nøjagtighed og robust kodning i maskinlæring."
   ]
  },
  {
   "cell_type": "markdown",
   "metadata": {},
   "source": [
    "REVISIONS||\n",
    "---------||\n",
    "2018-12-18| CEF, initial.                  \n",
    "2019-01-31| CEF, spell checked and update. \n",
    "2019-02-04| CEF, changed d1/d2 in Qb to L1/L2. Fixe rev date error.\n",
    "2019-02-04| CEF, changed headline.\n",
    "2019-02-04| CEF, changed (.) in dist(x,y) to use pipes instead.\n",
    "2019-02-04| CEF, updated supervised learning fig, and changed , to ; for thetas, and change = to propto.\n",
    "2019-02-05| CEF, post lesson update, minor changes, added fabs around two test vectors.\n",
    "2019-02-07| CEF, updated def section. \n",
    "2019-09-01| CEF, updated for ITMAL v2.\n",
    "2019-09-04| CEF, updated for print-f and added conclusion Q.\n",
    "2019-09-05| CEF, fixed defect in print string and commented on fabs.\n",
    "2020-01-30| CEF, F20 ITMAL update.\n",
    "2020-02-03| CEF, minor text fixes.\n",
    "2020-02-24| CEF, elaborated on MAE and RMSE, emphasized not to use np functionality in L1 and L2.\n",
    "2020-09-03| CEF, E20 ITMAL update, updated figs paths.\n",
    "2020-09-06| CEF, added alt text.\n",
    "2020-09-07| CEF, updated HOML page refs.\n",
    "2021-01-12| CEF, F21 ITMAL update, moved revision table.\n",
    "2021-02-09| CEF, elaborated on test-vectors. Changed order of Design Matrix descriptions.\n",
    "2021-08-02| CEF, update to E21 ITMAL.\n",
    "2022-01-25| CEF, update to F22 SWMAL.\n",
    "2022-02-25| CEF, removed inner product equations.\n",
    "2022-08-30| CEF, updated to v1 changes.\n",
    "2023-02-07| CEF, minor update for d."
   ]
  }
 ],
 "metadata": {
  "kernelspec": {
   "display_name": "Python 3 (ipykernel)",
   "language": "python",
   "name": "python3"
  },
  "language_info": {
   "codemirror_mode": {
    "name": "ipython",
    "version": 3
   },
   "file_extension": ".py",
   "mimetype": "text/x-python",
   "name": "python",
   "nbconvert_exporter": "python",
   "pygments_lexer": "ipython3",
   "version": "3.11.4"
  },
  "varInspector": {
   "cols": {
    "lenName": 16,
    "lenType": 16,
    "lenVar": 40
   },
   "kernels_config": {
    "python": {
     "delete_cmd_postfix": "",
     "delete_cmd_prefix": "del ",
     "library": "var_list.py",
     "varRefreshCmd": "print(var_dic_list())"
    },
    "r": {
     "delete_cmd_postfix": ") ",
     "delete_cmd_prefix": "rm(",
     "library": "var_list.r",
     "varRefreshCmd": "cat(var_dic_list()) "
    }
   },
   "types_to_exclude": [
    "module",
    "function",
    "builtin_function_or_method",
    "instance",
    "_Feature"
   ],
   "window_display": true
  }
 },
 "nbformat": 4,
 "nbformat_minor": 4
}
