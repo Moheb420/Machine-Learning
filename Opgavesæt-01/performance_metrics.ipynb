{
 "cells": [
  {
   "cell_type": "markdown",
   "metadata": {},
   "source": [
    "# SWMAL Exercise\n",
    "\n",
    "\n",
    "## Performance Metrics\n",
    "\n",
    "#### Qa Implementer nøjagtighedsfunktionen og test den på MNIST-dataene"
   ]
  },
  {
   "cell_type": "code",
   "execution_count": 3,
   "metadata": {},
   "outputs": [
    {
     "name": "stdout",
     "output_type": "stream",
     "text": [
      "Nøjagtighed ved brug af accuracy_score: 0.11\n",
      "Nøjagtighed ved brug af brugerdefineret nøjagtighedsfunktion: 0.11\n",
      "Nøjagtighed ved brug af SGDClassifier: 0.87\n"
     ]
    }
   ],
   "source": [
    "from sklearn.datasets import fetch_openml\n",
    "from sklearn.model_selection import train_test_split\n",
    "from sklearn.dummy import DummyClassifier\n",
    "from sklearn.metrics import accuracy_score\n",
    "from sklearn.linear_model import SGDClassifier\n",
    "\n",
    "# Hent data fra MNIST-datasættet og undertryk parseradvarslen\n",
    "X, y = fetch_openml('mnist_784', return_X_y=True, parser='liac-arff')\n",
    "\n",
    "# Opdel datasættet i trænings- og testdata\n",
    "X_train, X_test, y_train, y_test = train_test_split(X, y, test_size=0.2, random_state=42)\n",
    "\n",
    "# Opret en simpel dummy-classifier som baseline\n",
    "dummy_classifier = DummyClassifier(strategy=\"most_frequent\")\n",
    "\n",
    "# Træn dummy-classifieren\n",
    "dummy_classifier.fit(X_train, y_train)\n",
    "\n",
    "# Lav forudsigelser ved hjælp af dummy-classifieren\n",
    "y_pred = dummy_classifier.predict(X_test)\n",
    "\n",
    "# Opret en SGD-classifier\n",
    "sgd_classifier = SGDClassifier(loss='hinge', random_state=42)\n",
    "\n",
    "# Træn SGD-classifieren på træningsdataene\n",
    "sgd_classifier.fit(X_train, y_train)\n",
    "\n",
    "# Lav forudsigelser ved hjælp af SGD-classifieren\n",
    "sgd_y_pred = sgd_classifier.predict(X_test)\n",
    "\n",
    "# Definér MyAccuracy-funktionen\n",
    "def MyAccuracy(y_true, y_pred): \n",
    "    \n",
    "    # Find alle de korrekte forudsigelser (faktisk sande + sande forudsigelser)\n",
    "    korrekte_forudsigelser = (y_true == y_pred).sum()\n",
    "    \n",
    "    # Summen af alle forudsigelser\n",
    "    samlede_forudsigelser = len(y_true)  \n",
    "    \n",
    "    # Hvis nævneren er nul, skal det håndteres\n",
    "    if samlede_forudsigelser == 0:\n",
    "        raise ZeroDivisionError(\"Division med nul er ikke tilladt.\")\n",
    "    \n",
    "    # Find nøjagtigheden ved hjælp af den angivne funktion\n",
    "    min_nøjagtighed = korrekte_forudsigelser / samlede_forudsigelser\n",
    "    return min_nøjagtighed\n",
    "\n",
    "# Beregn nøjagtigheder ved hjælp af forskellige funktioner\n",
    "nøjagtighed = accuracy_score(y_test, y_pred)\n",
    "min_nøjagtighed = MyAccuracy(y_test, y_pred)\n",
    "sgd_nøjagtighed = accuracy_score(y_test, sgd_y_pred)\n",
    "\n",
    "# Udskriv alle nøjagtigheder\n",
    "print(f\"Nøjagtighed ved brug af accuracy_score: {nøjagtighed:.2f}\")\n",
    "print(f\"Nøjagtighed ved brug af brugerdefineret nøjagtighedsfunktion: {min_nøjagtighed:.2f}\")\n",
    "print(f\"Nøjagtighed ved brug af SGDClassifier: {sgd_nøjagtighed:.2f}\")"
   ]
  },
  {
   "cell_type": "code",
   "execution_count": null,
   "metadata": {},
   "outputs": [],
   "source": [
    "# Begge nøjagtighedsmetoder, `accuracy_score` og den brugerdefinerede nøjagtighedsfunktion, producerer ens resultater,\n",
    "# hvilket er en nøjagtighed på 0.11. Dette antyder, at begge metoder evaluerer klassifikationen ens for dummy-classifieren.\n",
    "# På den anden side viser nøjagtigheden ved brug af SGDClassifier en væsentlig forbedring med en nøjagtighed på 0.87.\n",
    "# Dette indikerer, at SGDClassifier er i stand til at træne på data og forudsige med betydeligt bedre præcision\n",
    "# sammenlignet med dummy-classifieren og den brugerdefinerede funktion. Dette resultat underbygger SGDClassifier's evne\n",
    "# til at lære og generalisere fra træningsdataene for at opnå højere præstationer."
   ]
  },
  {
   "cell_type": "markdown",
   "metadata": {},
   "source": [
    "#### Qb Implementere og test af perfomance metrikker"
   ]
  },
  {
   "cell_type": "code",
   "execution_count": 5,
   "metadata": {},
   "outputs": [
    {
     "name": "stdout",
     "output_type": "stream",
     "text": [
      "SGD Classifier (Mikrogennemsnit for Multiklasse):\n",
      "Brugerdefineret præcision: 1.00\n",
      "Brugerdefineret recall: 1.00\n",
      "Brugerdefineret F1-score: 1.00\n",
      "Sklearn præcision: 0.87\n",
      "Sklearn recall: 0.87\n",
      "Sklearn F1-score: 0.87\n",
      "\n",
      "Dummy Classifier (Mikrogennemsnit for Multiklasse):\n",
      "Brugerdefineret præcision: 0.54\n",
      "Brugerdefineret recall: 1.00\n",
      "Brugerdefineret F1-score: 0.70\n",
      "Sklearn præcision: 0.11\n",
      "Sklearn recall: 0.11\n"
     ]
    }
   ],
   "source": [
    "from sklearn.datasets import fetch_openml\n",
    "from sklearn.model_selection import train_test_split\n",
    "from sklearn.dummy import DummyClassifier\n",
    "from sklearn.metrics import accuracy_score, precision_score, recall_score, f1_score\n",
    "from sklearn.linear_model import SGDClassifier\n",
    "\n",
    "# For at undertrykke parseradvarslen er parseren blevet brugt\n",
    "X, y = fetch_openml('mnist_784', return_X_y=True, parser='liac-arff')\n",
    "\n",
    "# train_test_split er blevet brugt til at opdele datasættet i trænings- og testdata\n",
    "X_train, X_test, y_train, y_test = train_test_split(X, y, test_size=0.2, random_state=42)\n",
    "\n",
    "# Opret en simpel dummy-classifier som baseline\n",
    "dummy_classifier = DummyClassifier(strategy=\"most_frequent\")\n",
    "\n",
    "# Træn dummy-classifieren\n",
    "dummy_classifier.fit(X_train, y_train)\n",
    "\n",
    "# Lav forudsigelser ved hjælp af dummy-classifieren\n",
    "dummy_y_pred = dummy_classifier.predict(X_test)\n",
    "\n",
    "# Opret en SGD-classifier\n",
    "sgd_classifier = SGDClassifier(loss='hinge', random_state=42)\n",
    "\n",
    "# Træn SGD-classifieren på træningsdataene\n",
    "sgd_classifier.fit(X_train, y_train)\n",
    "\n",
    "# Lav forudsigelser ved hjælp af SGD-classifieren\n",
    "sgd_y_pred = sgd_classifier.predict(X_test)\n",
    "\n",
    "# Alle funktioner følger formlerne, der er angivet i begyndelsen af filen\n",
    "\n",
    "def MinPræcision(y_true, y_pred):\n",
    "    TP = ((y_true == 1) & (y_pred == 1)).sum()\n",
    "    FP = ((y_true == 0) & (y_pred == 1)).sum()\n",
    "    \n",
    "    # Hvis summen af sande positive og falske positive er lig med 0, returneres 0\n",
    "    if TP + FP == 0:\n",
    "        return 0.0\n",
    "    return (TP / (TP + FP))\n",
    "\n",
    "def MinRecall(y_true, y_pred):\n",
    "    TP = ((y_true == 1) & (y_pred == 1)).sum()\n",
    "    FP = ((y_true == 1) & (y_pred == 0)).sum()\n",
    "    \n",
    "    if TP + FP == 0:\n",
    "        return 0.0\n",
    "    return (TP / (TP + FP))\n",
    "    \n",
    "def MinF1Score(y_true, y_pred):\n",
    "    præcision = MinPræcision(y_true, y_pred)\n",
    "    recall = MinRecall(y_true, y_pred)\n",
    "    \n",
    "    if præcision + recall == 0:\n",
    "        return 0.0\n",
    "    \n",
    "    return 2 * (præcision * recall) / (præcision + recall)\n",
    "\n",
    "# Beregn præcision, recall og F1-score ved hjælp af brugerdefinerede funktioner\n",
    "præcision_brugerdefineret_sgd = MinPræcision(y_test.astype(int), sgd_y_pred.astype(int))\n",
    "recall_brugerdefineret_sgd = MinRecall(y_test.astype(int), sgd_y_pred.astype(int))\n",
    "f1_score_brugerdefineret_sgd = MinF1Score(y_test.astype(int), sgd_y_pred.astype(int))\n",
    "\n",
    "præcision_brugerdefineret_dummy = MinPræcision(y_test.astype(int), dummy_y_pred.astype(int))\n",
    "recall_brugerdefineret_dummy = MinRecall(y_test.astype(int), dummy_y_pred.astype(int))\n",
    "f1_score_brugerdefineret_dummy = MinF1Score(y_test.astype(int), dummy_y_pred.astype(int))\n",
    "\n",
    "# Beregn præcision, recall og F1-score ved hjælp af sklearn's funktioner til sammenligning\n",
    "præcision_sklearn_sgd = precision_score(y_test, sgd_y_pred, average='micro')\n",
    "recall_sklearn_sgd = recall_score(y_test, sgd_y_pred, average='micro')\n",
    "f1_score_sklearn_sgd = f1_score(y_test, sgd_y_pred, average='micro')\n",
    "\n",
    "præcision_sklearn_dummy = precision_score(y_test, dummy_y_pred, average='micro')\n",
    "recall_sklearn_dummy = recall_score(y_test, dummy_y_pred, average='micro')\n",
    "f1_score_sklearn_dummy = f1_score(y_test, dummy_y_pred, average='micro')\n",
    "\n",
    "# Udskriv resultaterne\n",
    "print(\"SGD Classifier (Mikrogennemsnit for Multiklasse):\")\n",
    "print(f\"Brugerdefineret præcision: {præcision_brugerdefineret_sgd:.2f}\")\n",
    "print(f\"Brugerdefineret recall: {recall_brugerdefineret_sgd:.2f}\")\n",
    "print(f\"Brugerdefineret F1-score: {f1_score_brugerdefineret_sgd:.2f}\")\n",
    "print(f\"Sklearn præcision: {præcision_sklearn_sgd:.2f}\")\n",
    "print(f\"Sklearn recall: {recall_sklearn_sgd:.2f}\")\n",
    "print(f\"Sklearn F1-score: {f1_score_sklearn_sgd:.2f}\")\n",
    "\n",
    "print(\"\\nDummy Classifier (Mikrogennemsnit for Multiklasse):\")\n",
    "print(f\"Brugerdefineret præcision: {præcision_brugerdefineret_dummy:.2f}\")\n",
    "print(f\"Brugerdefineret recall: {recall_brugerdefineret_dummy:.2f}\")\n",
    "print(f\"Brugerdefineret F1-score: {f1_score_brugerdefineret_dummy:.2f}\")\n",
    "print(f\"Sklearn præcision: {præcision_sklearn_dummy:.2f}\")\n",
    "print(f\"Sklearn recall: {recall_sklearn_dummy:.2f}\")"
   ]
  },
  {
   "cell_type": "code",
   "execution_count": null,
   "metadata": {},
   "outputs": [],
   "source": [
    "# Dette er den samme kode som tidligere, Koden træner to forskellige klassifaktioner (SGD og dummy klassifier) og beregner\n",
    "# alle de nævnte performance metrikker. Der er lidt forskel på output for SGD og dummy arbejder på en forskellige måde dvs.\n",
    "# SGD forsøger at lære data og laver forudsigelser baseret på mønstre i data og dummy klassifier er bare en simpel baseline \n",
    "# model der altid forudsiger den mest hypigt klasse i træningsdataene\n",
    "# løst by robot(AI)"
   ]
  },
  {
   "cell_type": "markdown",
   "metadata": {},
   "source": [
    "#### Qc Confusion Matrix"
   ]
  },
  {
   "cell_type": "code",
   "execution_count": null,
   "metadata": {},
   "outputs": [],
   "source": [
    "# [TN FP]\n",
    "# [FN TP]\n",
    "# TN = Sandt negativ, FN = Falsk negativ, FP = Falsk positiv, TP = Sandt positiv\n",
    "# Ved at bytte om på de faktiske og forudsagte etiketter vil den beregne forvirringsmatricen for de modsatte klasser, \n",
    "# hvilket fører til forkert resultat.\n"
   ]
  },
  {
   "cell_type": "markdown",
   "metadata": {},
   "source": [
    "#### Qd A Confusion Matrix Heat-map"
   ]
  },
  {
   "cell_type": "code",
   "execution_count": 6,
   "metadata": {},
   "outputs": [
    {
     "data": {
      "image/png": "[encoded data removed]",
      "text/plain": [
       "<Figure size 1200x600 with 2 Axes>"
      ]
     },
     "metadata": {},
     "output_type": "display_data"
    }
   ],
   "source": [
    "import numpy as np\n",
    "import matplotlib.pyplot as plt\n",
    "import seaborn as sns\n",
    "\n",
    "# Forvirringsmatrix for Dummy Classifier\n",
    "M_dummy = np.array([[18166, 0],\n",
    "                    [1834, 0]])\n",
    "\n",
    "# Forvirringsmatrix for SGD Classifier\n",
    "M_sgd = np.array([[17618, 548],\n",
    "                  [267, 1567]])\n",
    "\n",
    "# Opret en figur med subplots\n",
    "fig, axes = plt.subplots(1, 2, figsize=(12, 6))\n",
    "\n",
    "# Opret varmekort for begge forvirringsmatricer\n",
    "sns.heatmap(M_dummy, annot=True, fmt='d', cmap='Blues', cbar=False, ax=axes[0])\n",
    "axes[0].set_title('Forvirringsmatrix - Dummy Classifier')\n",
    "axes[0].set_xlabel('Forudsagt')\n",
    "axes[0].set_ylabel('Faktisk')\n",
    "\n",
    "sns.heatmap(M_sgd, annot=True, fmt='d', cmap='Blues', cbar=False, ax=axes[1])\n",
    "axes[1].set_title('Forvirringsmatrix - SGD Classifier')\n",
    "axes[1].set_xlabel('Forudsagt')\n",
    "axes[1].set_ylabel('Faktisk')\n",
    "\n",
    "plt.tight_layout()\n",
    "plt.show()\n"
   ]
  },
  {
   "cell_type": "code",
   "execution_count": null,
   "metadata": {},
   "outputs": [],
   "source": [
    "# To forvirringsmatricer er defineret ved hjælp af NumPy-arrays. Disse matricer repræsenterer resultaterne af to forskellige klassifikatorer:\n",
    "# Dummy Classifier og SGD Classifier.\n",
    "# Hver forvirringsmatrix er en 2x2 matrix med fire værdier:\n",
    "# Værdien øverst til venstre repræsenterer Sandt Negative (TN).\n",
    "# Værdien øverst til højre repræsenterer Falske Positive (FP).\n",
    "# Værdien nederst til venstre repræsenterer Falske Negative (FN).\n",
    "# Værdien nederst til højre repræsenterer Sandt Positive (TP).\n",
    "\n",
    "# Løst af en robot (AI)"
   ]
  },
  {
   "cell_type": "markdown",
   "metadata": {},
   "source": [
    "### Qe Conclusion"
   ]
  },
  {
   "cell_type": "code",
   "execution_count": null,
   "metadata": {},
   "outputs": [],
   "source": [
    "# Vi dykkede ned i metrikker som nøjagtighed, præcision, recall og F1-score for at kvantificere modelpræstationen. \n",
    "# Implementerede brugerdefinerede funktioner til præcision, recall og F1-score, hvilket fordybede vores forståelse af deres\n",
    "# beregninger. Ved hjælp af Scikit-Learn anvendte vi standard evalueringsmetrikker, hvilket gjorde det muligt at sammenligne\n",
    "# med vores brugerdefinerede implementeringer. Ved at vurdere en Dummy Classifier mod en SGD Classifier forstod vi \n",
    "# betydningen af modelvalg. Vi lærte vigtigheden af at opdele data i trænings- og testmængder for en realistisk \n",
    "# modelvurdering. Vi lærte, hvordan ubalancerede datasæt blev tydelige, hvilket understregede værdien af præcision og\n",
    "# recall. Til sidst lærte vi varmekort for at skabe en klar præsentation og fortolkning af evalueringsresultaterne. Alt \n",
    "# i alt udstyrede disse øvelser os til at vurdere og sammenligne machine learning-modeller grundigt. Vi forstod \n",
    "# metriskompromisser, forfine vores færdigheder inden for dataopdeling og anerkendte udfordringerne ved ubalancerede data.\n"
   ]
  }
 ],
 "metadata": {
  "kernelspec": {
   "display_name": "Python 3 (ipykernel)",
   "language": "python",
   "name": "python3"
  },
  "language_info": {
   "codemirror_mode": {
    "name": "ipython",
    "version": 3
   },
   "file_extension": ".py",
   "mimetype": "text/x-python",
   "name": "python",
   "nbconvert_exporter": "python",
   "pygments_lexer": "ipython3",
   "version": "3.11.4"
  },
  "varInspector": {
   "cols": {
    "lenName": 16,
    "lenType": 16,
    "lenVar": 40
   },
   "kernels_config": {
    "python": {
     "delete_cmd_postfix": "",
     "delete_cmd_prefix": "del ",
     "library": "var_list.py",
     "varRefreshCmd": "print(var_dic_list())"
    },
    "r": {
     "delete_cmd_postfix": ") ",
     "delete_cmd_prefix": "rm(",
     "library": "var_list.r",
     "varRefreshCmd": "cat(var_dic_list()) "
    }
   },
   "types_to_exclude": [
    "module",
    "function",
    "builtin_function_or_method",
    "instance",
    "_Feature"
   ],
   "window_display": true
  }
 },
 "nbformat": 4,
 "nbformat_minor": 2
}
