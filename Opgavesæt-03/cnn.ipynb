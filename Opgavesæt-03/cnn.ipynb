{
 "cells": [
  {
   "cell_type": "markdown",
   "metadata": {},
   "source": [
    "# SWMAL Exercise\n",
    "\n",
    "\n",
    "## Convolutional Neural Networks (CNNs)\n",
    "\n",
    "\n",
    "Excercise 9 from [HOML], p.496 2nd./p.535 3rd. (slighty modified):\n",
    "\n",
    "__\"9. Build an CNN via the Keras API and try to achieve the highest possible accuracy on MNIST.\"__\n",
    "\n",
    "For the journal: \n",
    "\n",
    "* write an introduction to CNNs (what are CNNs, what is a convolution layer, etc..), \n",
    "* document your experiments towards the end-goal of reaching 'a high accuracy' (what did you try, what work/did not work), \n",
    "* document how you use '_generalization_' in your setup (us of simple hold-out/train-test split or k-fold, or etc..),\n",
    "* produce some sort of '_learning-curve_' that illustrates the drop in cost- or increase in score-function with respect to, say training iteration (for inspiration see fig 4.20, 10-12 or 10.17 in [HOML]),\n",
    "* document the final CNN setup (layers etc., perhaps as a graph/drawing), \n",
    "* discus on your iterations towards the end-goal and other findings you had,\n",
    "* and, as always, write a conclusion.\n",
    "\n",
    "If you use a code template from slides, HOML or the internet, then remember to add a reference to the original work in you journal."
   ]
  },
  {
   "cell_type": "code",
   "execution_count": 2,
   "metadata": {},
   "outputs": [
    {
     "name": "stdout",
     "output_type": "stream",
     "text": [
      "2.14.0\n",
      "Downloading data from https://storage.googleapis.com/tensorflow/tf-keras-datasets/mnist.npz\n",
      "11490434/11490434 [==============================] - 1s 0us/step\n",
      "Epoch 1/10\n",
      "1688/1688 [==============================] - 18s 10ms/step - loss: 0.1523 - accuracy: 0.9536 - val_loss: 0.0606 - val_accuracy: 0.9805\n",
      "Epoch 2/10\n",
      "1688/1688 [==============================] - 19s 11ms/step - loss: 0.0499 - accuracy: 0.9846 - val_loss: 0.0444 - val_accuracy: 0.9862\n",
      "Epoch 3/10\n",
      "1688/1688 [==============================] - 21s 13ms/step - loss: 0.0348 - accuracy: 0.9893 - val_loss: 0.0492 - val_accuracy: 0.9858\n",
      "Epoch 4/10\n",
      "1688/1688 [==============================] - 18s 10ms/step - loss: 0.0271 - accuracy: 0.9911 - val_loss: 0.0459 - val_accuracy: 0.9862\n",
      "Epoch 5/10\n",
      "1688/1688 [==============================] - 18s 10ms/step - loss: 0.0195 - accuracy: 0.9938 - val_loss: 0.0525 - val_accuracy: 0.9840\n",
      "Epoch 6/10\n",
      "1688/1688 [==============================] - 18s 11ms/step - loss: 0.0156 - accuracy: 0.9950 - val_loss: 0.0403 - val_accuracy: 0.9887\n",
      "Epoch 7/10\n",
      "1688/1688 [==============================] - 18s 11ms/step - loss: 0.0138 - accuracy: 0.9954 - val_loss: 0.0534 - val_accuracy: 0.9875\n",
      "Epoch 8/10\n",
      "1688/1688 [==============================] - 17s 10ms/step - loss: 0.0102 - accuracy: 0.9965 - val_loss: 0.0474 - val_accuracy: 0.9890\n",
      "Epoch 9/10\n",
      "1688/1688 [==============================] - 18s 11ms/step - loss: 0.0090 - accuracy: 0.9972 - val_loss: 0.0476 - val_accuracy: 0.9885\n",
      "Epoch 10/10\n",
      "1688/1688 [==============================] - 20s 12ms/step - loss: 0.0071 - accuracy: 0.9977 - val_loss: 0.0465 - val_accuracy: 0.9895\n"
     ]
    },
    {
     "data": {
      "image/png": "[encoded data removed]",
      "text/plain": [
       "<Figure size 640x480 with 1 Axes>"
      ]
     },
     "metadata": {},
     "output_type": "display_data"
    },
    {
     "name": "stdout",
     "output_type": "stream",
     "text": [
      "313/313 - 1s - loss: 0.0432 - accuracy: 0.9887 - 1s/epoch - 4ms/step\n",
      "Test accuracy: 0.9886999726295471\n"
     ]
    }
   ],
   "source": [
    "# Nedenstående er lavet med chat gpt\n",
    "\n",
    "# Import necessary libraries\n",
    "import numpy as np\n",
    "import tensorflow as tf\n",
    "from tensorflow import keras\n",
    "from tensorflow.keras import layers\n",
    "from sklearn.model_selection import train_test_split\n",
    "import matplotlib.pyplot as plt\n",
    "\n",
    "# Load the MNIST dataset\n",
    "mnist = keras.datasets.mnist\n",
    "(train_images, train_labels), (test_images, test_labels) = mnist.load_data()\n",
    "\n",
    "# Preprocess the data\n",
    "train_images, test_images = train_images / 255.0, test_images / 255.0\n",
    "\n",
    "# Split the dataset into training and validation sets\n",
    "train_images, val_images, train_labels, val_labels = train_test_split(train_images, train_labels, test_size=0.1, random_state=42)\n",
    "\n",
    "# Build the CNN model\n",
    "model = keras.Sequential([\n",
    "    layers.Input(shape=(28, 28)),\n",
    "    layers.Reshape(target_shape=(28, 28, 1)),\n",
    "    layers.Conv2D(32, (3, 3), activation='relu', input_shape=(28, 28, 1)),\n",
    "    layers.MaxPooling2D((2, 2)),\n",
    "    layers.Conv2D(64, (3, 3), activation='relu'),\n",
    "    layers.MaxPooling2D((2, 2)),\n",
    "    layers.Flatten(),\n",
    "    layers.Dense(64, activation='relu'),\n",
    "    layers.Dense(10, activation='softmax')\n",
    "])\n",
    "\n",
    "# Compile the model\n",
    "model.compile(optimizer='adam',\n",
    "              loss='sparse_categorical_crossentropy',\n",
    "              metrics=['accuracy'])\n",
    "\n",
    "# Train the model\n",
    "history = model.fit(train_images, train_labels, epochs=10, validation_data=(val_images, val_labels))\n",
    "\n",
    "# Plot the learning curve\n",
    "plt.plot(history.history['accuracy'], label='accuracy')\n",
    "plt.plot(history.history['val_accuracy'], label = 'val_accuracy')\n",
    "plt.xlabel('Epoch')\n",
    "plt.ylabel('Accuracy')\n",
    "plt.ylim([0, 1])\n",
    "plt.legend(loc='lower right')\n",
    "plt.show()\n",
    "\n",
    "# Evaluate the model on the test set\n",
    "test_loss, test_acc = model.evaluate(test_images, test_labels, verbose=2)\n",
    "print(f\"Test accuracy: {test_acc}\")\n",
    "\n",
    "# Save the model if desired\n",
    "# model.save('mnist_cnn_model.h5')\n"
   ]
  },
  {
   "cell_type": "markdown",
   "metadata": {},
   "source": [
    "REVISIONS||\n",
    ":- | :- |\n",
    "2021-10-20| CEF, initial version, clone from [HOML].\n",
    "2021-10-26| CEF, added learning curve item.\n",
    "2022-01-25| CEF, update to SWMAL F22.\n",
    "2023-03-08| CEF, updated page no to HOML 3rd. ed., updated to SWMAL F23.\n",
    "2023-03-15| CEF, removed wording \"from scratch\", replaced with \"via the Keras API\" and added comment about references."
   ]
  }
 ],
 "metadata": {
  "kernelspec": {
   "display_name": "Python 3 (ipykernel)",
   "language": "python",
   "name": "python3"
  },
  "language_info": {
   "codemirror_mode": {
    "name": "ipython",
    "version": 3
   },
   "file_extension": ".py",
   "mimetype": "text/x-python",
   "name": "python",
   "nbconvert_exporter": "python",
   "pygments_lexer": "ipython3",
   "version": "3.11.1"
  },
  "varInspector": {
   "cols": {
    "lenName": 16,
    "lenType": 16,
    "lenVar": 40
   },
   "kernels_config": {
    "python": {
     "delete_cmd_postfix": "",
     "delete_cmd_prefix": "del ",
     "library": "var_list.py",
     "varRefreshCmd": "print(var_dic_list())"
    },
    "r": {
     "delete_cmd_postfix": ") ",
     "delete_cmd_prefix": "rm(",
     "library": "var_list.r",
     "varRefreshCmd": "cat(var_dic_list()) "
    }
   },
   "types_to_exclude": [
    "module",
    "function",
    "builtin_function_or_method",
    "instance",
    "_Feature"
   ],
   "window_display": true
  }
 },
 "nbformat": 4,
 "nbformat_minor": 4
}
