{
 "cells": [
  {
   "cell_type": "markdown",
   "id": "84d4ae80-70f3-4108-bcd2-569d815c7e0b",
   "metadata": {},
   "source": [
    "# Student Mark Forudsigelse\n",
    "\n",
    "### Belastning and Dataforarbejdning"
   ]
  },
  {
   "cell_type": "code",
   "execution_count": 1,
   "id": "f7177430-1cd9-4017-ba39-b45608156e1e",
   "metadata": {},
   "outputs": [
    {
     "data": {
      "text/html": [
       "<div>\n",
       "<style scoped>\n",
       "    .dataframe tbody tr th:only-of-type {\n",
       "        vertical-align: middle;\n",
       "    }\n",
       "\n",
       "    .dataframe tbody tr th {\n",
       "        vertical-align: top;\n",
       "    }\n",
       "\n",
       "    .dataframe thead th {\n",
       "        text-align: right;\n",
       "    }\n",
       "</style>\n",
       "<table border=\"1\" class=\"dataframe\">\n",
       "  <thead>\n",
       "    <tr style=\"text-align: right;\">\n",
       "      <th></th>\n",
       "      <th>gender</th>\n",
       "      <th>race/ethnicity</th>\n",
       "      <th>parental level of education</th>\n",
       "      <th>lunch</th>\n",
       "      <th>test preparation course</th>\n",
       "      <th>math score</th>\n",
       "      <th>reading score</th>\n",
       "      <th>writing score</th>\n",
       "    </tr>\n",
       "  </thead>\n",
       "  <tbody>\n",
       "    <tr>\n",
       "      <th>0</th>\n",
       "      <td>female</td>\n",
       "      <td>group B</td>\n",
       "      <td>bachelor's degree</td>\n",
       "      <td>standard</td>\n",
       "      <td>none</td>\n",
       "      <td>72</td>\n",
       "      <td>72</td>\n",
       "      <td>74</td>\n",
       "    </tr>\n",
       "    <tr>\n",
       "      <th>1</th>\n",
       "      <td>female</td>\n",
       "      <td>group C</td>\n",
       "      <td>some college</td>\n",
       "      <td>standard</td>\n",
       "      <td>completed</td>\n",
       "      <td>69</td>\n",
       "      <td>90</td>\n",
       "      <td>88</td>\n",
       "    </tr>\n",
       "    <tr>\n",
       "      <th>2</th>\n",
       "      <td>female</td>\n",
       "      <td>group B</td>\n",
       "      <td>master's degree</td>\n",
       "      <td>standard</td>\n",
       "      <td>none</td>\n",
       "      <td>90</td>\n",
       "      <td>95</td>\n",
       "      <td>93</td>\n",
       "    </tr>\n",
       "    <tr>\n",
       "      <th>3</th>\n",
       "      <td>male</td>\n",
       "      <td>group A</td>\n",
       "      <td>associate's degree</td>\n",
       "      <td>free/reduced</td>\n",
       "      <td>none</td>\n",
       "      <td>47</td>\n",
       "      <td>57</td>\n",
       "      <td>44</td>\n",
       "    </tr>\n",
       "    <tr>\n",
       "      <th>4</th>\n",
       "      <td>male</td>\n",
       "      <td>group C</td>\n",
       "      <td>some college</td>\n",
       "      <td>standard</td>\n",
       "      <td>none</td>\n",
       "      <td>76</td>\n",
       "      <td>78</td>\n",
       "      <td>75</td>\n",
       "    </tr>\n",
       "  </tbody>\n",
       "</table>\n",
       "</div>"
      ],
      "text/plain": [
       "   gender race/ethnicity parental level of education         lunch  \\\n",
       "0  female        group B           bachelor's degree      standard   \n",
       "1  female        group C                some college      standard   \n",
       "2  female        group B             master's degree      standard   \n",
       "3    male        group A          associate's degree  free/reduced   \n",
       "4    male        group C                some college      standard   \n",
       "\n",
       "  test preparation course  math score  reading score  writing score  \n",
       "0                    none          72             72             74  \n",
       "1               completed          69             90             88  \n",
       "2                    none          90             95             93  \n",
       "3                    none          47             57             44  \n",
       "4                    none          76             78             75  "
      ]
     },
     "execution_count": 1,
     "metadata": {},
     "output_type": "execute_result"
    }
   ],
   "source": [
    "import pandas as pd\n",
    "import os\n",
    "datapath = os.path.join(\"../Journal-04\", \"\", \"\")\n",
    "dataset = pd.read_csv(datapath + \"StudentsPerformance.csv\")\n",
    "dataset.head()"
   ]
  },
  {
   "cell_type": "code",
   "execution_count": 2,
   "id": "7f1f913f-b9ce-4f61-b3be-dccb4893867d",
   "metadata": {},
   "outputs": [
    {
     "name": "stdout",
     "output_type": "stream",
     "text": [
      "<class 'pandas.core.frame.DataFrame'>\n",
      "RangeIndex: 1000 entries, 0 to 999\n",
      "Data columns (total 8 columns):\n",
      " #   Column                       Non-Null Count  Dtype \n",
      "---  ------                       --------------  ----- \n",
      " 0   gender                       1000 non-null   object\n",
      " 1   race/ethnicity               1000 non-null   object\n",
      " 2   parental level of education  1000 non-null   object\n",
      " 3   lunch                        1000 non-null   object\n",
      " 4   test preparation course      1000 non-null   object\n",
      " 5   math score                   1000 non-null   int64 \n",
      " 6   reading score                1000 non-null   int64 \n",
      " 7   writing score                1000 non-null   int64 \n",
      "dtypes: int64(3), object(5)\n",
      "memory usage: 62.6+ KB\n"
     ]
    }
   ],
   "source": [
    "# To check data types and see if there are any missing values\n",
    "dataset.info()"
   ]
  },
  {
   "cell_type": "markdown",
   "id": "1eccebfe-dc61-4beb-9fea-282846c3aadb",
   "metadata": {},
   "source": [
    "# Model selection and training"
   ]
  },
  {
   "cell_type": "code",
   "execution_count": 10,
   "id": "1e269d0a-fdd5-4400-bb44-c9f7766fdf5e",
   "metadata": {},
   "outputs": [
    {
     "name": "stdout",
     "output_type": "stream",
     "text": [
      "Math Score Prediction: [75.09966783]\n",
      "Reading Score Prediction: [73.89981428]\n",
      "Writing Score Prediction: [74.36625581]\n",
      "Mean Absolute Error (Math): 12.027899739599361\n",
      "Mean Absolute Error (Reading): 11.440642492738426\n",
      "Mean Absolute Error (Writing): 10.833399473461727\n"
     ]
    },
    {
     "data": {
      "text/plain": [
       "['svm_writing_model.pkl']"
      ]
     },
     "execution_count": 10,
     "metadata": {},
     "output_type": "execute_result"
    }
   ],
   "source": [
    "from sklearn.svm import SVR\n",
    "from sklearn.model_selection import train_test_split\n",
    "from sklearn.metrics import mean_absolute_error\n",
    "import pandas as pd\n",
    "import joblib\n",
    "\n",
    "X = dataset[['gender', 'parental level of education', 'test preparation course']]\n",
    "y_math = dataset['math score']\n",
    "y_reading = dataset['reading score']\n",
    "y_writing = dataset['writing score']\n",
    "\n",
    "X = pd.get_dummies(X, columns=['gender', 'parental level of education', 'test preparation course'])\n",
    "\n",
    "X_train_math, X_test_math, y_math_train, y_math_test = train_test_split(X, y_math, test_size=0.2, random_state=42)\n",
    "\n",
    "# Create and train the SVM model for math score\n",
    "svm_math = SVR(kernel='linear')\n",
    "svm_math.fit(X_train_math, y_math_train)\n",
    "\n",
    "X_train_reading, X_test_reading, y_reading_train, y_reading_test = train_test_split(X, y_reading, test_size=0.2, random_state=42)\n",
    "\n",
    "svm_reading = SVR(kernel='linear')\n",
    "svm_reading.fit(X_train_reading, y_reading_train)\n",
    "\n",
    "X_train_writing, X_test_writing, y_writing_train, y_writing_test = train_test_split(X, y_writing, test_size=0.2, random_state=42)\n",
    "\n",
    "svm_writing = SVR(kernel='linear')\n",
    "svm_writing.fit(X_train_writing, y_writing_train)\n",
    "\n",
    "# User input data\n",
    "user_data = {\n",
    "    'gender_female': [0],  \n",
    "    'gender_male': [1],    \n",
    "    \"parental level of education_associate's degree\": [0],  \n",
    "    \"parental level of education_bachelor's degree\": [1],\n",
    "    'test preparation course_completed': [1]\n",
    "}\n",
    "\n",
    "# Convert user input into a DataFrame\n",
    "user_df = pd.DataFrame(user_data)\n",
    "user_df = user_df.reindex(columns=X.columns, fill_value=0)\n",
    "\n",
    "math_predictions = svm_math.predict(user_df)\n",
    "reading_predictions = svm_reading.predict(user_df)\n",
    "writing_predictions = svm_writing.predict(user_df)\n",
    "\n",
    "mae_math = mean_absolute_error(y_math_test, svm_math.predict(X_test_math))\n",
    "mae_reading = mean_absolute_error(y_reading_test, svm_reading.predict(X_test_reading))\n",
    "mae_writing = mean_absolute_error(y_writing_test, svm_writing.predict(X_test_writing))\n",
    "\n",
    "# Print predictions\n",
    "print(\"Math Score Prediction:\", math_predictions)\n",
    "print(\"Reading Score Prediction:\", reading_predictions)\n",
    "print(\"Writing Score Prediction:\", writing_predictions)\n",
    "\n",
    "print(\"Mean Absolute Error (Math):\", mae_math)\n",
    "print(\"Mean Absolute Error (Reading):\", mae_reading)\n",
    "print(\"Mean Absolute Error (Writing):\", mae_writing)\n",
    "\n",
    "# Save models\n",
    "joblib.dump(svm_math, 'svm_math_model.pkl')\n",
    "joblib.dump(svm_reading, 'svm_reading_model.pkl')\n",
    "joblib.dump(svm_writing, 'svm_writing_model.pkl')"
   ]
  },
  {
   "cell_type": "code",
   "execution_count": 11,
   "metadata": {},
   "outputs": [
    {
     "name": "stderr",
     "output_type": "stream",
     "text": [
      "c:\\Python software\\Python 3.11.1\\Lib\\site-packages\\sklearn\\neural_network\\_multilayer_perceptron.py:691: ConvergenceWarning: Stochastic Optimizer: Maximum iterations (1000) reached and the optimization hasn't converged yet.\n",
      "  warnings.warn(\n",
      "c:\\Python software\\Python 3.11.1\\Lib\\site-packages\\sklearn\\neural_network\\_multilayer_perceptron.py:691: ConvergenceWarning: Stochastic Optimizer: Maximum iterations (1000) reached and the optimization hasn't converged yet.\n",
      "  warnings.warn(\n"
     ]
    },
    {
     "name": "stdout",
     "output_type": "stream",
     "text": [
      "MLP Math Score Prediction: [76.5658089]\n",
      "MLP Reading Score Prediction: [74.45474202]\n",
      "MLP Writing Score Prediction: [75.54424289]\n",
      "MLP Mean Absolute Error (Math): 12.065657159903672\n",
      "MLP Mean Absolute Error (Reading): 11.419775887912797\n",
      "MLP Mean Absolute Error (Writing): 10.722945112560335\n"
     ]
    },
    {
     "data": {
      "text/plain": [
       "['mlp_writing_model.pkl']"
      ]
     },
     "execution_count": 11,
     "metadata": {},
     "output_type": "execute_result"
    }
   ],
   "source": [
    "from sklearn.neural_network import MLPRegressor\n",
    "\n",
    "# Create and train the MLP model for math score\n",
    "mlp_math = MLPRegressor(hidden_layer_sizes=(100,), max_iter=1000)\n",
    "mlp_math.fit(X_train_math, y_math_train)\n",
    "\n",
    "# Create and train the MLP model for reading score\n",
    "mlp_reading = MLPRegressor(hidden_layer_sizes=(100,), max_iter=1000)\n",
    "mlp_reading.fit(X_train_reading, y_reading_train)\n",
    "\n",
    "# Create and train the MLP model for writing score\n",
    "mlp_writing = MLPRegressor(hidden_layer_sizes=(100,), max_iter=1000)\n",
    "mlp_writing.fit(X_train_writing, y_writing_train)\n",
    "\n",
    "# User input data\n",
    "user_data = {\n",
    "    'gender_female': [0],\n",
    "    'gender_male': [1],\n",
    "    \"parental level of education_associate's degree\": [0],\n",
    "    \"parental level of education_bachelor's degree\": [1],\n",
    "    'test preparation course_completed': [1]\n",
    "}\n",
    "\n",
    "# Convert user input into a DataFrame\n",
    "user_df = pd.DataFrame(user_data)\n",
    "user_df = user_df.reindex(columns=X.columns, fill_value=0)\n",
    "\n",
    "# Predictions using MLP models\n",
    "math_predictions_mlp = mlp_math.predict(user_df)\n",
    "reading_predictions_mlp = mlp_reading.predict(user_df)\n",
    "writing_predictions_mlp = mlp_writing.predict(user_df)\n",
    "\n",
    "# Print MLP predictions\n",
    "print(\"MLP Math Score Prediction:\", math_predictions_mlp)\n",
    "print(\"MLP Reading Score Prediction:\", reading_predictions_mlp)\n",
    "print(\"MLP Writing Score Prediction:\", writing_predictions_mlp)\n",
    "\n",
    "# Evaluate MLP models\n",
    "mae_math_mlp = mean_absolute_error(y_math_test, mlp_math.predict(X_test_math))\n",
    "mae_reading_mlp = mean_absolute_error(y_reading_test, mlp_reading.predict(X_test_reading))\n",
    "mae_writing_mlp = mean_absolute_error(y_writing_test, mlp_writing.predict(X_test_writing))\n",
    "\n",
    "# Print MLP mean absolute errors\n",
    "print(\"MLP Mean Absolute Error (Math):\", mae_math_mlp)\n",
    "print(\"MLP Mean Absolute Error (Reading):\", mae_reading_mlp)\n",
    "print(\"MLP Mean Absolute Error (Writing):\", mae_writing_mlp)\n",
    "\n",
    "# Save MLP models\n",
    "joblib.dump(mlp_math, 'mlp_math_model.pkl')\n",
    "joblib.dump(mlp_reading, 'mlp_reading_model.pkl')\n",
    "joblib.dump(mlp_writing, 'mlp_writing_model.pkl')\n"
   ]
  },
  {
   "cell_type": "markdown",
   "id": "90eea9da-47d4-48c0-8109-626159f07e5d",
   "metadata": {},
   "source": [
    "# Visualizing of MAE and Prediction"
   ]
  },
  {
   "cell_type": "code",
   "execution_count": 5,
   "id": "e726b129-1a12-4a36-beed-5dcd1ee9c406",
   "metadata": {},
   "outputs": [
    {
     "ename": "AttributeError",
     "evalue": "module 'matplotlib' has no attribute 'figure'",
     "output_type": "error",
     "traceback": [
      "\u001b[1;31m---------------------------------------------------------------------------\u001b[0m",
      "\u001b[1;31mAttributeError\u001b[0m                            Traceback (most recent call last)",
      "\u001b[1;32mc:\\Users\\ahoeg\\Desktop\\ST7\\ML\\Machine-Learning\\Journal-04\\Journal-04.ipynb Cell 7\u001b[0m line \u001b[0;36m1\n\u001b[0;32m      <a href='vscode-notebook-cell:/c%3A/Users/ahoeg/Desktop/ST7/ML/Machine-Learning/Journal-04/Journal-04.ipynb#W6sZmlsZQ%3D%3D?line=6'>7</a>\u001b[0m mae_values \u001b[39m=\u001b[39m [mae_math, mae_reading, mae_writing]\n\u001b[0;32m      <a href='vscode-notebook-cell:/c%3A/Users/ahoeg/Desktop/ST7/ML/Machine-Learning/Journal-04/Journal-04.ipynb#W6sZmlsZQ%3D%3D?line=8'>9</a>\u001b[0m \u001b[39m# Create a bar chart\u001b[39;00m\n\u001b[1;32m---> <a href='vscode-notebook-cell:/c%3A/Users/ahoeg/Desktop/ST7/ML/Machine-Learning/Journal-04/Journal-04.ipynb#W6sZmlsZQ%3D%3D?line=9'>10</a>\u001b[0m plt\u001b[39m.\u001b[39;49mfigure(figsize\u001b[39m=\u001b[39m(\u001b[39m10\u001b[39m, \u001b[39m5\u001b[39m))\n\u001b[0;32m     <a href='vscode-notebook-cell:/c%3A/Users/ahoeg/Desktop/ST7/ML/Machine-Learning/Journal-04/Journal-04.ipynb#W6sZmlsZQ%3D%3D?line=11'>12</a>\u001b[0m plt\u001b[39m.\u001b[39msubplot(\u001b[39m121\u001b[39m)\n\u001b[0;32m     <a href='vscode-notebook-cell:/c%3A/Users/ahoeg/Desktop/ST7/ML/Machine-Learning/Journal-04/Journal-04.ipynb#W6sZmlsZQ%3D%3D?line=12'>13</a>\u001b[0m plt\u001b[39m.\u001b[39mbar(subjects, predictions, color\u001b[39m=\u001b[39m\u001b[39m'\u001b[39m\u001b[39mblue\u001b[39m\u001b[39m'\u001b[39m)\n",
      "File \u001b[1;32mc:\\Python software\\Python 3.11.1\\Lib\\site-packages\\matplotlib\\_api\\__init__.py:217\u001b[0m, in \u001b[0;36mcaching_module_getattr.<locals>.__getattr__\u001b[1;34m(name)\u001b[0m\n\u001b[0;32m    215\u001b[0m \u001b[39mif\u001b[39;00m name \u001b[39min\u001b[39;00m props:\n\u001b[0;32m    216\u001b[0m     \u001b[39mreturn\u001b[39;00m props[name]\u001b[39m.\u001b[39m\u001b[39m__get__\u001b[39m(instance)\n\u001b[1;32m--> 217\u001b[0m \u001b[39mraise\u001b[39;00m \u001b[39mAttributeError\u001b[39;00m(\n\u001b[0;32m    218\u001b[0m     \u001b[39mf\u001b[39m\u001b[39m\"\u001b[39m\u001b[39mmodule \u001b[39m\u001b[39m{\u001b[39;00m\u001b[39mcls\u001b[39m\u001b[39m.\u001b[39m\u001b[39m__module__\u001b[39m\u001b[39m!r}\u001b[39;00m\u001b[39m has no attribute \u001b[39m\u001b[39m{\u001b[39;00mname\u001b[39m!r}\u001b[39;00m\u001b[39m\"\u001b[39m)\n",
      "\u001b[1;31mAttributeError\u001b[0m: module 'matplotlib' has no attribute 'figure'"
     ]
    }
   ],
   "source": [
    "\n",
    "subjects = ['Math', 'Reading', 'Writing']\n",
    "\n",
    "# Create lists of predictions and MAE values\n",
    "predictions = [math_predictions[0], reading_predictions[0], writing_predictions[0]]\n",
    "mae_values = [mae_math, mae_reading, mae_writing]\n",
    "\n",
    "# Create a bar chart\n",
    "plt.figure(figsize=(10, 5))\n",
    "\n",
    "plt.subplot(121)\n",
    "plt.bar(subjects, predictions, color='blue')\n",
    "plt.title('Score Predictions')\n",
    "plt.xlabel('Subjects')\n",
    "plt.ylabel('Predicted Scores')\n",
    "\n",
    "plt.subplot(122)\n",
    "plt.bar(subjects, mae_values, color='red')\n",
    "plt.title('MAE (Mean Absolute Error)')\n",
    "plt.xlabel('Subjects')\n",
    "plt.ylabel('MAE Values')\n",
    "\n",
    "plt.tight_layout()\n",
    "plt.show()"
   ]
  },
  {
   "cell_type": "markdown",
   "id": "3fb5158b-5c48-43ce-8c0d-c6192c323dbc",
   "metadata": {},
   "source": [
    "# Hyperparameter tuning using the Grid Search"
   ]
  },
  {
   "cell_type": "code",
   "execution_count": 7,
   "id": "8c7704b8-5168-4a6d-8f1a-503511b23c6c",
   "metadata": {},
   "outputs": [
    {
     "name": "stdout",
     "output_type": "stream",
     "text": [
      "Best Hyperparameters for Math Model: {'C': 1, 'epsilon': 0.2}\n",
      "Mean Absolute Error for Math Model:\n"
     ]
    }
   ],
   "source": [
    "from sklearn.model_selection import train_test_split, GridSearchCV\n",
    "\n",
    "X_train, X_test, y_math_train, y_math_test, y_reading_train, y_reading_test, y_writing_train, y_writing_test = train_test_split(\n",
    "    X, y_math, y_reading, y_writing, test_size=0.2, random_state=42\n",
    ")\n",
    "\n",
    "# Define a grid of hyperparameters to search\n",
    "param_grid = {\n",
    "    'C': [0.1, 1, 10],\n",
    "    'epsilon': [0.01, 0.1, 0.2],\n",
    "}\n",
    "\n",
    "# Create a grid search for hyperparameter tuning\n",
    "grid_search_math = GridSearchCV(svm_math, param_grid, cv=5, scoring='neg_mean_absolute_error')\n",
    "\n",
    "# Fit the grid search to the data\n",
    "grid_search_math.fit(X_train, y_math_train)\n",
    "\n",
    "# Get the best hyperparameters\n",
    "best_params_math = grid_search_math.best_params_\n",
    "\n",
    "# Create a new SVR model with the best hyperparameters\n",
    "best_svm_math = SVR(kernel='linear', C=best_params_math['C'], epsilon=best_params_math['epsilon'])\n",
    "best_svm_math.fit(X_train, y_math_train)\n",
    "\n",
    "# Make predictions with the best model\n",
    "math_predictions = best_svm_math.predict(X_test)\n",
    "\n",
    "# Evaluate the best model\n",
    "mae_math = mean_absolute_error(y_math_test, math_predictions)\n",
    "\n",
    "# Report the best hyperparameters and MAE\n",
    "print(\"Best Hyperparameters for Math Model:\", best_params_math)\n",
    "print(\"Mean Absolute Error for Math Model:\", )"
   ]
  },
  {
   "cell_type": "markdown",
   "id": "7cf81a7c-fcde-4e15-862a-af17a5eab145",
   "metadata": {},
   "source": [
    "# Visualisering af Hyperparameter Grid Search"
   ]
  },
  {
   "cell_type": "code",
   "execution_count": 8,
   "id": "ab1ab37e-3e12-4e92-93ce-23c5234c51ea",
   "metadata": {},
   "outputs": [
    {
     "data": {
      "image/png": "[encoded data removed]",
      "text/plain": [
       "<Figure size 640x480 with 2 Axes>"
      ]
     },
     "metadata": {},
     "output_type": "display_data"
    }
   ],
   "source": [
    "import matplotlib.pyplot as plt\n",
    "import numpy as np\n",
    "\n",
    "# Create a grid for 'C' and 'epsilon'\n",
    "C_values = [0.1, 1, 10]\n",
    "epsilon_values = [0.01, 0.1, 0.2]\n",
    "\n",
    "# Create an empty grid for errors\n",
    "error_grid = np.zeros((len(C_values), len(epsilon_values)))\n",
    "\n",
    "# Sample error values (replace with actual error calculations)\n",
    "for i in range(len(C_values)):\n",
    "    for j in range(len(epsilon_values)):\n",
    "        error = np.random.rand()  # Replace this with your actual error calculation\n",
    "        error_grid[i, j] = error\n",
    "\n",
    "# Create a heatmap\n",
    "plt.imshow(error_grid, cmap='viridis', origin='lower', aspect='auto')\n",
    "plt.colorbar(label='Error')\n",
    "plt.xticks(np.arange(len(epsilon_values)), epsilon_values)\n",
    "plt.yticks(np.arange(len(C_values)), C_values)\n",
    "plt.xlabel('Epsilon')\n",
    "plt.ylabel('C')\n",
    "plt.title('Hyperparameter Grid Search')\n",
    "plt.show()\n"
   ]
  }
 ],
 "metadata": {
  "kernelspec": {
   "display_name": "Python 3 (ipykernel)",
   "language": "python",
   "name": "python3"
  },
  "language_info": {
   "codemirror_mode": {
    "name": "ipython",
    "version": 3
   },
   "file_extension": ".py",
   "mimetype": "text/x-python",
   "name": "python",
   "nbconvert_exporter": "python",
   "pygments_lexer": "ipython3",
   "version": "3.11.1"
  }
 },
 "nbformat": 4,
 "nbformat_minor": 5
}
